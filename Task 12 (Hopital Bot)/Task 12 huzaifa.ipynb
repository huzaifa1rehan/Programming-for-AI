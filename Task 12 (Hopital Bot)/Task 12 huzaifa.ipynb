{
  "nbformat": 4,
  "nbformat_minor": 0,
  "metadata": {
    "colab": {
      "provenance": []
    },
    "kernelspec": {
      "name": "python3",
      "display_name": "Python 3"
    },
    "language_info": {
      "name": "python"
    }
  },
  "cells": [
    {
      "cell_type": "code",
      "execution_count": 2,
      "metadata": {
        "colab": {
          "base_uri": "https://localhost:8080/"
        },
        "id": "Jm5Nk7VbhsJj",
        "outputId": "998326b6-54b2-4716-ecd1-9861080eb904"
      },
      "outputs": [
        {
          "output_type": "stream",
          "name": "stdout",
          "text": [
            "Chatbot: Hello! How can I assist you today? Type 'quit' to exit.\n",
            "You: doctors?\n",
            "Chatbot: We have a team of expert doctors in various specialties. Would you like to know about a specific doctor?\n",
            "You: quit\n",
            "Chatbot: Goodbye!\n"
          ]
        }
      ],
      "source": [
        "import torch\n",
        "from transformers import AutoModelForCausalLM, AutoTokenizer\n",
        "\n",
        "# Load the pre-trained DialoGPT-medium model and tokenizer\n",
        "tokenizer = AutoTokenizer.from_pretrained(\"microsoft/DialoGPT-medium\")\n",
        "model = AutoModelForCausalLM.from_pretrained(\"microsoft/DialoGPT-medium\")\n",
        "\n",
        "# Hospital-related responses\n",
        "hospital_data = {\n",
        "    \"hours\": \"We are open 24/7, feel free to visit any time.\",\n",
        "    \"location\": \"Our hospital is located at 123 Health St, Wellness City.\",\n",
        "    \"emergency\": \"In case of an emergency, please call 911 immediately or visit our emergency department.\",\n",
        "    \"doctor\": \"We have a team of expert doctors in various specialties. Would you like to know about a specific doctor?\",\n",
        "    \"appointment\": \"To schedule an appointment, please call our front desk at 555-1234 or visit our website.\",\n",
        "    \"facilities\": \"Our hospital is equipped with state-of-the-art facilities including a 24/7 emergency room, a maternity ward, and a well-equipped ICU.\"\n",
        "}\n",
        "\n",
        "# Function to generate a response from the model\n",
        "def generate_response(user_input):\n",
        "    # Check if the user input contains any keywords related to hospital info\n",
        "    user_input_lower = user_input.lower()\n",
        "\n",
        "    # Look for keywords in the user input and respond with relevant hospital info\n",
        "    for keyword, response in hospital_data.items():\n",
        "        if keyword in user_input_lower:\n",
        "            return response\n",
        "\n",
        "    # If no keyword is found, proceed with the model-based response\n",
        "    new_user_input_ids = tokenizer.encode(user_input + tokenizer.eos_token, return_tensors='pt')\n",
        "\n",
        "    # If a GPU is available, move the model to the GPU\n",
        "    if torch.cuda.is_available():\n",
        "        new_user_input_ids = new_user_input_ids.to(\"cuda\")\n",
        "        model.to(\"cuda\")\n",
        "\n",
        "    # Generate a response from the model\n",
        "    chat_history_ids = model.generate(new_user_input_ids, max_length=1000, pad_token_id=tokenizer.eos_token_id, no_repeat_ngram_size=3)\n",
        "\n",
        "    # Decode the response\n",
        "    bot_response = tokenizer.decode(chat_history_ids[:, new_user_input_ids.shape[-1]:][0], skip_special_tokens=True)\n",
        "\n",
        "    return bot_response\n",
        "\n",
        "def chatbot():\n",
        "    print(\"Chatbot: Hello! How can I assist you today? Type 'quit' to exit.\")\n",
        "\n",
        "    # Loop for interacting with the user\n",
        "    while True:\n",
        "        user_input = input(\"You: \")\n",
        "\n",
        "        if user_input.lower() == \"quit\":\n",
        "            print(\"Chatbot: Goodbye!\")\n",
        "            break\n",
        "\n",
        "        response = generate_response(user_input)\n",
        "        print(f\"Chatbot: {response}\")\n",
        "\n",
        "# Start the chatbot\n",
        "if __name__ == \"__main__\":\n",
        "    chatbot()\n"
      ]
    }
  ]
}